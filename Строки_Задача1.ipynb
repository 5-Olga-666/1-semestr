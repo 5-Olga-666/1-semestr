{
  "nbformat": 4,
  "nbformat_minor": 0,
  "metadata": {
    "colab": {
      "provenance": [],
      "authorship_tag": "ABX9TyOsMyAc8J+O70Bgjj3cWSZ9"
    },
    "kernelspec": {
      "name": "python3",
      "display_name": "Python 3"
    },
    "language_info": {
      "name": "python"
    }
  },
  "cells": [
    {
      "cell_type": "code",
      "execution_count": null,
      "metadata": {
        "id": "q3G0uMDHhqpx"
      },
      "outputs": [],
      "source": [
        "def pref_func(string):\n",
        "    n = len(string)\n",
        "    pref = [0] * n\n",
        "    for i in range(1, n):\n",
        "        k = pref[i - 1]\n",
        "        while k > 0 and string[i]!=string [k]:\n",
        "            k = pref[k - 1]\n",
        "        if string[i] == string[k]:\n",
        "            k += 1\n",
        "        pref[i] = k\n",
        "    return pref\n",
        "\n",
        "def kmp(string, substring):\n",
        "    combination = substring + \"#\" + string\n",
        "    n, m = len(string), len(substring)\n",
        "    ans = []\n",
        "    p = pref_func(combination)\n",
        "    for i in range(n):\n",
        "        if p[m + i + 1] == m:\n",
        "            ans.append(i - m + 1)\n",
        "    return ans\n",
        "\n",
        "s = input()\n",
        "a = kmp(s, \"student_\")\n",
        "b = s[8:11:]\n",
        "c = int(s[11:a[1]:])\n",
        "for i in range(1,len(a)):\n",
        "  if i<len(a)-1:\n",
        "    if int(s[a[i]+11:a[i+1]:])>c:\n",
        "      c=int(s[a[i]+11:a[i+1]:])\n",
        "      b=s[a[i]+8:a[i]+11:]\n",
        "  else:\n",
        "    if int(s[a[i]+11::])>c:\n",
        "      c=int(s[a[i]+11::])\n",
        "      b=s[a[i]+8:a[i]+11:]\n",
        "print(b)"
      ]
    }
  ]
}