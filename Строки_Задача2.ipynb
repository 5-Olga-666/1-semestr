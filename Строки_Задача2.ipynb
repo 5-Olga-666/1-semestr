{
  "nbformat": 4,
  "nbformat_minor": 0,
  "metadata": {
    "colab": {
      "provenance": [],
      "authorship_tag": "ABX9TyM67l84m2cMqqGenupdDu/d"
    },
    "kernelspec": {
      "name": "python3",
      "display_name": "Python 3"
    },
    "language_info": {
      "name": "python"
    }
  },
  "cells": [
    {
      "cell_type": "code",
      "execution_count": null,
      "metadata": {
        "id": "q3G0uMDHhqpx"
      },
      "outputs": [],
      "source": [
        "r,a=input().split()\n",
        "r=float(r)\n",
        "a=float(a)\n",
        "lenght=2*r*3.14\n",
        "lenght=str(lenght)\n",
        "square1=a*a\n",
        "square2=3.14*r*r\n",
        "devision=square2*100/square1\n",
        "devision=str(devision)\n",
        "print(\"Длина окружности равно \"+lenght+\". Площадь круга составляет \"+devision+\"% от площади квадрата.\")"
      ]
    }
  ]
}