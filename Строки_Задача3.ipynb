{
  "nbformat": 4,
  "nbformat_minor": 0,
  "metadata": {
    "colab": {
      "provenance": [],
      "authorship_tag": "ABX9TyP93wRYpN9joBB4pE0DxCT/"
    },
    "kernelspec": {
      "name": "python3",
      "display_name": "Python 3"
    },
    "language_info": {
      "name": "python"
    }
  },
  "cells": [
    {
      "cell_type": "code",
      "execution_count": null,
      "metadata": {
        "id": "q3G0uMDHhqpx"
      },
      "outputs": [],
      "source": [
        "a,b=input().split()\n",
        "print(a[1::-1]+a[2::]+\"-\"+b[1::-1]+b[2::])"
      ]
    }
  ]
}